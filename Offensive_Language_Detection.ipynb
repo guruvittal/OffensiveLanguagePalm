{
  "nbformat": 4,
  "nbformat_minor": 0,
  "metadata": {
    "colab": {
      "provenance": []
    },
    "kernelspec": {
      "name": "python3",
      "display_name": "Python 3"
    },
    "language_info": {
      "name": "python"
    }
  },
  "cells": [
    {
      "cell_type": "markdown",
      "source": [
        "## Invoking Text Bison directly"
      ],
      "metadata": {
        "id": "-EeiGb_cnThu"
      }
    },
    {
      "cell_type": "code",
      "source": [
        "import pandas as pd\n",
        "import seaborn as sns\n",
        "from IPython.display import Markdown, display\n",
        "from sklearn.metrics.pairwise import cosine_similarity\n",
        "from vertexai.language_models import (\n",
        "    TextGenerationModel,\n",
        "    TextEmbeddingModel,\n",
        "    ChatModel,\n",
        "    InputOutputTextPair,\n",
        "    CodeGenerationModel,\n",
        "    CodeChatModel,\n",
        "\n",
        ")"
      ],
      "metadata": {
        "id": "pR41F6dn2y-A"
      },
      "execution_count": null,
      "outputs": []
    },
    {
      "cell_type": "code",
      "source": [
        "#@title Authentication with Google\n",
        "import sys\n",
        "if \"google.colab\" in sys.modules:\n",
        "    from google.colab import auth as google_auth\n",
        "    google_auth.authenticate_user()\n"
      ],
      "metadata": {
        "id": "DIdCiTEwRqcl"
      },
      "execution_count": null,
      "outputs": []
    },
    {
      "cell_type": "code",
      "source": [
        "import vertexai\n",
        "\n",
        "PROJECT_ID = \"PROJECT_ID\"  # @param {type:\"string\"}\n",
        "\n",
        "LOCATION = \"us-central1\"  # @param {type:\"string\"}\n",
        "\n",
        "vertexai.init(project=PROJECT_ID, location=LOCATION)"
      ],
      "metadata": {
        "id": "EZe8iS2CY2E8"
      },
      "execution_count": null,
      "outputs": []
    },
    {
      "cell_type": "code",
      "source": [
        "generation_model = TextGenerationModel.from_pretrained(\"text-bison@001\")"
      ],
      "metadata": {
        "id": "sseW69Kp2-VE"
      },
      "execution_count": null,
      "outputs": []
    },
    {
      "cell_type": "code",
      "source": [
        "from google.generativeai.types import HarmCategory, HarmBlockThreshold\n",
        "\n",
        "input_text = \"\"\"These are beatiful flowers... Fuck you! God Dam it..\"\"\"\n",
        "prompt = \"\"\"Extract the offensive language from the text below. Your response should be a string containing the offensive language. \\\n",
        "The text is:\n",
        "\"\"\"\n",
        "prompt += \"'\" + input_text + \"'\"\n",
        "\n",
        "\n",
        "response = generation_model.predict(prompt=prompt\n",
        "                                    )\n",
        "\n",
        "print(response.text)"
      ],
      "metadata": {
        "id": "7Z_JYOq53CSW",
        "outputId": "0fffa72a-f0bd-46d5-b60b-1bb3aee2ecbd",
        "colab": {
          "base_uri": "https://localhost:8080/"
        }
      },
      "execution_count": null,
      "outputs": [
        {
          "output_type": "stream",
          "name": "stdout",
          "text": [
            "The offensive language in the text is \"Fuck you\".\n"
          ]
        }
      ]
    },
    {
      "cell_type": "code",
      "source": [
        "response.safety_attributes"
      ],
      "metadata": {
        "id": "3dds1gbD2B-A",
        "outputId": "f84888c3-c2e6-41ea-b408-4c19deb62fd5",
        "colab": {
          "base_uri": "https://localhost:8080/"
        }
      },
      "execution_count": null,
      "outputs": [
        {
          "output_type": "execute_result",
          "data": {
            "text/plain": [
              "{'Death, Harm & Tragedy': 0.1,\n",
              " 'Derogatory': 0.4,\n",
              " 'Finance': 0.1,\n",
              " 'Health': 0.2,\n",
              " 'Insult': 0.8,\n",
              " 'Legal': 0.1,\n",
              " 'Politics': 0.2,\n",
              " 'Profanity': 0.9,\n",
              " 'Religion & Belief': 0.3,\n",
              " 'Sexual': 0.5,\n",
              " 'Toxic': 0.7,\n",
              " 'Violent': 0.1,\n",
              " 'War & Conflict': 0.1}"
            ]
          },
          "metadata": {},
          "execution_count": 6
        }
      ]
    }
  ]
}